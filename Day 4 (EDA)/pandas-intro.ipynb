{
 "cells": [
  {
   "cell_type": "code",
   "execution_count": 2,
   "id": "f400003c-448b-4dd6-8808-5b6f5cf99048",
   "metadata": {},
   "outputs": [
    {
     "name": "stdout",
     "output_type": "stream",
     "text": [
      "Version:  2.2.3\n"
     ]
    }
   ],
   "source": [
    "import pandas as pd\n",
    "print('Version: ',pd.__version__)"
   ]
  },
  {
   "cell_type": "code",
   "execution_count": 11,
   "id": "8e0783cc-d404-473f-aaeb-f57f13d60d57",
   "metadata": {},
   "outputs": [
    {
     "name": "stdout",
     "output_type": "stream",
     "text": [
      "0     1\n",
      "1    12\n",
      "2    13\n",
      "3    14\n",
      "4     5\n",
      "5    16\n",
      "6     7\n",
      "7     8\n",
      "dtype: int64\n",
      "Element at index 3 is:  14\n"
     ]
    }
   ],
   "source": [
    "list=[1,12,13,14,5,16,7,8]\n",
    "myseries=pd.Series(list)\n",
    "print (myseries)\n",
    "print(\"Element at index 3 is: \",myseries[3])\n"
   ]
  },
  {
   "cell_type": "code",
   "execution_count": 12,
   "id": "5aab0d65-c552-49fb-91b0-8d78a988753b",
   "metadata": {},
   "outputs": [
    {
     "name": "stdout",
     "output_type": "stream",
     "text": [
      "a     1\n",
      "b    14\n",
      "c    12\n",
      "d    13\n",
      "e    16\n",
      "f    17\n",
      "g    31\n",
      "dtype: int64\n"
     ]
    }
   ],
   "source": [
    "#lets create own labels\n",
    "myli=[1,14,12,13,16,17,31]\n",
    "series=pd.Series(myli,index=[\"a\",\"b\",\"c\",\"d\",\"e\",\"f\",\"g\"])\n",
    "print(series)\n",
    "                \n"
   ]
  },
  {
   "cell_type": "code",
   "execution_count": 17,
   "id": "e40bd232-b98d-4d53-b44f-6bed95f41154",
   "metadata": {},
   "outputs": [
    {
     "name": "stdout",
     "output_type": "stream",
     "text": [
      "id                                  1\n",
      "name                          Aarushi\n",
      "email      arushidhiman3110@gmail.com\n",
      "address                          Pune\n",
      "Salary                          99999\n",
      "dtype: object\n",
      "id 1\n",
      "name Aarushi\n"
     ]
    }
   ],
   "source": [
    "#Dictionary Data\n",
    "employee= {\n",
    "    \"id\":1,\n",
    "    \"name\":\"Aarushi\",\n",
    "    \"email\":\"arushidhiman3110@gmail.com\",\n",
    "    \"address\":\"Pune\",\n",
    "    \"Salary\":99999\n",
    "}\n",
    "data=pd.Series(employee)\n",
    "print(data)\n",
    "print(\"id\", data[\"id\"])\n",
    "print(\"name\",data[\"name\"])"
   ]
  },
  {
   "cell_type": "code",
   "execution_count": 20,
   "id": "b957d318-75e4-4774-9b67-5e1296bf7204",
   "metadata": {},
   "outputs": [
    {
     "name": "stdout",
     "output_type": "stream",
     "text": [
      "   id     name\n",
      "0   1  aarushi\n",
      "1   2     pari\n",
      "2   3     gugu\n",
      "3   4     dugu\n"
     ]
    }
   ],
   "source": [
    "#Dataframe:2D tabular structure \n",
    "sample= {\n",
    "    \"id\":[1,2,3,4],\n",
    "    \"name\":[\"aarushi\",\"pari\",\"gugu\",\"dugu\"]\n",
    "}\n",
    "df=pd.DataFrame(sample)\n",
    "print(df)"
   ]
  },
  {
   "cell_type": "code",
   "execution_count": 26,
   "id": "942fb954-b1b5-4a1c-bf50-2e259b173b05",
   "metadata": {},
   "outputs": [
    {
     "name": "stdout",
     "output_type": "stream",
     "text": [
      "   id     name\n",
      "0   1  aarushi\n",
      "1   2     pari\n",
      "2   3     gugu\n",
      "3   4     dugu\n",
      " \n",
      "First row is: \n",
      "id            1\n",
      "name    aarushi\n",
      "Name: 0, dtype: object\n",
      " \n",
      "First 2 rows: \n",
      "   id     name\n",
      "0   1  aarushi\n",
      "1   2     pari\n",
      "Value at (0,1) is: \n",
      "aarushi\n"
     ]
    }
   ],
   "source": [
    "sample= {\n",
    "    \"id\":[1,2,3,4],\n",
    "    \"name\":[\"aarushi\",\"pari\",\"gugu\",\"dugu\"]\n",
    "}\n",
    "df=pd.DataFrame(sample)\n",
    "print(df)\n",
    "\n",
    "#you want to get the row then use loc attribute\n",
    "print(\" \")\n",
    "print(\"First row is: \")\n",
    "print(df.loc[0])\n",
    "\n",
    "print(\" \")\n",
    "#print first 2 rows\n",
    "print(\"First 2 rows: \")\n",
    "print(df.loc[[0,1]])\n",
    "\n",
    "\n",
    "# print individual value\n",
    "print(\"Value at (0,1) is: \")\n",
    "print(df.iloc[0,1]) "
   ]
  },
  {
   "cell_type": "code",
   "execution_count": 29,
   "id": "0eb0eba9-ca8b-423b-bc39-40a382477adf",
   "metadata": {},
   "outputs": [
    {
     "name": "stdout",
     "output_type": "stream",
     "text": [
      "      Name  Age     City\n",
      "0  aarushi   21       UK\n",
      "1    Sagar   25       UK\n",
      "2     Aada   16       US\n",
      "3     Pari   12       US\n",
      "4     Dugu    1  Denmark\n"
     ]
    }
   ],
   "source": [
    "#Creating dataframe from list of lists\n",
    "\n",
    "data=[ \n",
    "    [\"aarushi\",21,\"UK\"],\n",
    "    [\"Sagar\",25,\"UK\"],\n",
    "    [\"Aada\",16,\"US\"],\n",
    "    [\"Pari\",12,\"US\"],\n",
    "    [\"Dugu\",1,\"Denmark\"]\n",
    "     ]\n",
    "\n",
    "df=pd.DataFrame(data,columns=[\"Name\",\"Age\",\"City\"])\n",
    "print(df)\n"
   ]
  },
  {
   "cell_type": "code",
   "execution_count": 33,
   "id": "ea6d54ff-fccb-47e2-b741-c891e55f4993",
   "metadata": {},
   "outputs": [
    {
     "name": "stdout",
     "output_type": "stream",
     "text": [
      "     id                 name                           email  gender  grade\n",
      "0     1       Wanda Ciepluch             wciepluch0@narod.ru  Female    5.2\n",
      "1     2         Darsie Olwen             dolwen1@vinaora.com  Female    3.2\n",
      "2     3          Von Seagood       vseagood2@accuweather.com    Male    9.5\n",
      "3     4    Griswold Attawell            gattawell3@lycos.com    Male    7.8\n",
      "4     5       Janel Martinet         jmartinet4@google.co.uk  Female    3.2\n",
      "..  ...                  ...                             ...     ...    ...\n",
      "95   96     Sarajane Elnaugh             selnaugh2n@ucsd.edu  Female    4.2\n",
      "96   97       Blanch Cratere    bcratere2o@sciencedirect.com  Female    7.4\n",
      "97   98  Barbie Barszczewski  bbarszczewski2p@eventbrite.com  Female    3.5\n",
      "98   99        Raoul Beacham          rbeacham2q@gizmodo.com    Male    1.7\n",
      "99  100    Filbert McGifford       fmcgifford2r@sakura.ne.jp    Male    5.9\n",
      "\n",
      "[100 rows x 5 columns]\n"
     ]
    }
   ],
   "source": [
    "student_data = pd.read_csv('student_data.csv')\n",
    "print(student_data)\n"
   ]
  },
  {
   "cell_type": "code",
   "execution_count": 35,
   "id": "da585c9e-6ea8-4490-8828-259d9e58e86d",
   "metadata": {},
   "outputs": [
    {
     "data": {
      "text/html": [
       "<div>\n",
       "<style scoped>\n",
       "    .dataframe tbody tr th:only-of-type {\n",
       "        vertical-align: middle;\n",
       "    }\n",
       "\n",
       "    .dataframe tbody tr th {\n",
       "        vertical-align: top;\n",
       "    }\n",
       "\n",
       "    .dataframe thead th {\n",
       "        text-align: right;\n",
       "    }\n",
       "</style>\n",
       "<table border=\"1\" class=\"dataframe\">\n",
       "  <thead>\n",
       "    <tr style=\"text-align: right;\">\n",
       "      <th></th>\n",
       "      <th>id</th>\n",
       "      <th>name</th>\n",
       "      <th>email</th>\n",
       "      <th>gender</th>\n",
       "      <th>grade</th>\n",
       "    </tr>\n",
       "  </thead>\n",
       "  <tbody>\n",
       "    <tr>\n",
       "      <th>0</th>\n",
       "      <td>1</td>\n",
       "      <td>Wanda Ciepluch</td>\n",
       "      <td>wciepluch0@narod.ru</td>\n",
       "      <td>Female</td>\n",
       "      <td>5.2</td>\n",
       "    </tr>\n",
       "    <tr>\n",
       "      <th>1</th>\n",
       "      <td>2</td>\n",
       "      <td>Darsie Olwen</td>\n",
       "      <td>dolwen1@vinaora.com</td>\n",
       "      <td>Female</td>\n",
       "      <td>3.2</td>\n",
       "    </tr>\n",
       "    <tr>\n",
       "      <th>2</th>\n",
       "      <td>3</td>\n",
       "      <td>Von Seagood</td>\n",
       "      <td>vseagood2@accuweather.com</td>\n",
       "      <td>Male</td>\n",
       "      <td>9.5</td>\n",
       "    </tr>\n",
       "    <tr>\n",
       "      <th>3</th>\n",
       "      <td>4</td>\n",
       "      <td>Griswold Attawell</td>\n",
       "      <td>gattawell3@lycos.com</td>\n",
       "      <td>Male</td>\n",
       "      <td>7.8</td>\n",
       "    </tr>\n",
       "    <tr>\n",
       "      <th>4</th>\n",
       "      <td>5</td>\n",
       "      <td>Janel Martinet</td>\n",
       "      <td>jmartinet4@google.co.uk</td>\n",
       "      <td>Female</td>\n",
       "      <td>3.2</td>\n",
       "    </tr>\n",
       "    <tr>\n",
       "      <th>5</th>\n",
       "      <td>6</td>\n",
       "      <td>Jennie D'Acth</td>\n",
       "      <td>jdacth5@ibm.com</td>\n",
       "      <td>Female</td>\n",
       "      <td>2.4</td>\n",
       "    </tr>\n",
       "    <tr>\n",
       "      <th>6</th>\n",
       "      <td>7</td>\n",
       "      <td>Flossy Hane</td>\n",
       "      <td>fhane6@webmd.com</td>\n",
       "      <td>Bigender</td>\n",
       "      <td>2.5</td>\n",
       "    </tr>\n",
       "    <tr>\n",
       "      <th>7</th>\n",
       "      <td>8</td>\n",
       "      <td>Jorry Offa</td>\n",
       "      <td>joffa7@soup.io</td>\n",
       "      <td>Female</td>\n",
       "      <td>9.6</td>\n",
       "    </tr>\n",
       "    <tr>\n",
       "      <th>8</th>\n",
       "      <td>9</td>\n",
       "      <td>Cathe Benford</td>\n",
       "      <td>cbenford8@1und1.de</td>\n",
       "      <td>Polygender</td>\n",
       "      <td>8.3</td>\n",
       "    </tr>\n",
       "    <tr>\n",
       "      <th>9</th>\n",
       "      <td>10</td>\n",
       "      <td>Roland Blackaller</td>\n",
       "      <td>rblackaller9@is.gd</td>\n",
       "      <td>Male</td>\n",
       "      <td>4.4</td>\n",
       "    </tr>\n",
       "  </tbody>\n",
       "</table>\n",
       "</div>"
      ],
      "text/plain": [
       "   id               name                      email      gender  grade\n",
       "0   1     Wanda Ciepluch        wciepluch0@narod.ru      Female    5.2\n",
       "1   2       Darsie Olwen        dolwen1@vinaora.com      Female    3.2\n",
       "2   3        Von Seagood  vseagood2@accuweather.com        Male    9.5\n",
       "3   4  Griswold Attawell       gattawell3@lycos.com        Male    7.8\n",
       "4   5     Janel Martinet    jmartinet4@google.co.uk      Female    3.2\n",
       "5   6      Jennie D'Acth            jdacth5@ibm.com      Female    2.4\n",
       "6   7        Flossy Hane           fhane6@webmd.com    Bigender    2.5\n",
       "7   8         Jorry Offa             joffa7@soup.io      Female    9.6\n",
       "8   9      Cathe Benford         cbenford8@1und1.de  Polygender    8.3\n",
       "9  10  Roland Blackaller         rblackaller9@is.gd        Male    4.4"
      ]
     },
     "execution_count": 35,
     "metadata": {},
     "output_type": "execute_result"
    }
   ],
   "source": [
    "#Directly taking tabular structure\n",
    "student_data.head(10)"
   ]
  },
  {
   "cell_type": "code",
   "execution_count": 38,
   "id": "684689cc-03ce-4707-9fbd-8c2fd770a947",
   "metadata": {},
   "outputs": [
    {
     "name": "stdout",
     "output_type": "stream",
     "text": [
      "     id                    name                               email       gender  grade\n",
      "0     1          Wanda Ciepluch                 wciepluch0@narod.ru       Female    5.2\n",
      "1     2            Darsie Olwen                 dolwen1@vinaora.com       Female    3.2\n",
      "2     3             Von Seagood           vseagood2@accuweather.com         Male    9.5\n",
      "3     4       Griswold Attawell                gattawell3@lycos.com         Male    7.8\n",
      "4     5          Janel Martinet             jmartinet4@google.co.uk       Female    3.2\n",
      "5     6           Jennie D'Acth                     jdacth5@ibm.com       Female    2.4\n",
      "6     7             Flossy Hane                    fhane6@webmd.com     Bigender    2.5\n",
      "7     8              Jorry Offa                      joffa7@soup.io       Female    9.6\n",
      "8     9           Cathe Benford                  cbenford8@1und1.de   Polygender    8.3\n",
      "9    10       Roland Blackaller                  rblackaller9@is.gd         Male    4.4\n",
      "10   11                 Joy Dow           jdowa@theglobeandmail.com       Female    4.7\n",
      "11   12            Emyle Farman                    efarmanb@fc2.com       Female    7.2\n",
      "12   13           Regina Stoltz                    rstoltzc@wix.com       Female    5.0\n",
      "13   14              Gus Wilcot                  gwilcotd@skype.com         Male    4.2\n",
      "14   15             Dyna Likely                     dlikelye@ed.gov       Female    6.2\n",
      "15   16          Ruddie Mc Pake                     rmcf@uol.com.br         Male    4.0\n",
      "16   17        Carny Derrington      cderringtong@printfriendly.com         Male    4.2\n",
      "17   18        Caprice McIlenna               cmcilennah@seesaa.net       Female    8.8\n",
      "18   19            Paul Shevlan                pshevlani@flavors.me         Male    9.7\n",
      "19   20          Theodoric Shee                     tsheej@bing.com         Male    9.7\n",
      "20   21      Engracia Cranfield           ecranfieldk@indiegogo.com       Female    5.0\n",
      "21   22           Silvia Pullar                  spullarl@opera.com       Female    6.9\n",
      "22   23              Flin Roney                    froneym@noaa.gov         Male    4.4\n",
      "23   24           Erastus Jesse                ejessen@usatoday.com         Male    5.7\n",
      "24   25      Millicent Elacoate                melacoateo@cisco.com     Bigender    6.5\n",
      "25   26             Wiatt Elves                     welvesp@mapy.cz         Male    6.9\n",
      "26   27          Erinna Stonard                  estonardq@dell.com       Female    5.8\n",
      "27   28        Cristionna Hayen          chayenr@simplemachines.org       Female    2.3\n",
      "28   29          Seward Spowart                sspowarts@senate.gov         Male    2.4\n",
      "29   30         Maynord Barwack                   mbarwackt@usa.gov         Male    6.8\n",
      "30   31           Huberto Patis                      hpatisu@a8.net         Male    1.5\n",
      "31   32      Alexander Rawkesby            arawkesbyv@posterous.com   Polygender    4.9\n",
      "32   33         Alain Jurgenson           ajurgensonw@blinklist.com         Male    5.5\n",
      "33   34         Joellen Gartery           jgarteryx@stumbleupon.com       Female    3.2\n",
      "34   35         Leigh Kingswood            lkingswoody@amazon.co.jp       Female    9.9\n",
      "35   36             Robina Thor                  rthorz@t-online.de       Female    2.0\n",
      "36   37          Merna Gutowska             mgutowska10@example.com       Female    9.9\n",
      "37   38          Orelie Windrus                owindrus11@state.gov   Non-binary    9.8\n",
      "38   39            Sloan Greste                   sgreste12@wsj.com         Male    6.1\n",
      "39   40       Clarice Geraldini               cgeraldini13@admin.ch       Female    6.4\n",
      "40   41  Sheilakathryn Goshawke           sgoshawke14@123-reg.co.uk       Female    5.6\n",
      "41   42        Ardith Serginson             aserginson15@rediff.com       Female    8.7\n",
      "42   43           Becka Belcham             bbelcham16@redcross.org       Female    3.3\n",
      "43   44        Joelle Skoughman       jskoughman17@reverbnation.com       Female    6.2\n",
      "44   45        Latrena Gonsalvo             lgonsalvo18@tinyurl.com       Female    1.2\n",
      "45   46             Augy Camell                    acamell19@gov.uk         Male    5.9\n",
      "46   47          Candis Kirvell               ckirvell1a@rediff.com       Female    1.5\n",
      "47   48        Camellia Childes                 cchildes1b@noaa.gov       Female    4.5\n",
      "48   49           Verna Pimlock                vpimlock1c@wiley.com       Female    8.4\n",
      "49   50         Chandra Beranek               cberanek1d@flickr.com       Female    6.9\n",
      "50   51           Alexis Arkell                 aarkell1e@apple.com       Female    9.4\n",
      "51   52           Auroora Kleen                 akleen1f@uol.com.br     Bigender    8.3\n",
      "52   53       Briggs Chansonnau         bchansonnau1g@bloglovin.com         Male   10.0\n",
      "53   54            Gracie Goade                  ggoade1h@ocn.ne.jp       Female    9.6\n",
      "54   55          Tabatha Burril             tburril1i@blinklist.com       Female    2.8\n",
      "55   56            Abram Valeri                      avaleri1j@g.co         Male    6.6\n",
      "56   57         Audrie Trassler           atrassler1k@moonfruit.com       Female    4.8\n",
      "57   58            Nolly Foster           nfoster1l@statcounter.com         Male    7.9\n",
      "58   59        Freddy Thomasson        fthomasson1m@photobucket.com       Female    3.6\n",
      "59   60         Keeley Eskrigge              keskrigge1n@sfgate.com       Female    1.6\n",
      "60   61         Mickie Verriour           mverriour1o@bigcartel.com       Female    1.7\n",
      "61   62          Redd Demkowicz            rdemkowicz1p@plala.or.jp         Male    9.7\n",
      "62   63              Roland Alu                     ralu1q@admin.ch   Non-binary    2.7\n",
      "63   64         Neel Fullerlove           nfullerlove1r@skyrock.com  Genderfluid    5.5\n",
      "64   65       Sherwynd Scullard             sscullard1s@myspace.com         Male    4.4\n",
      "65   66        Matelda Holstein                 mholstein1t@last.fm       Female    4.3\n",
      "66   67               Ira Smale                 ismale1u@joomla.org       Female    4.1\n",
      "67   68           Evania Tenney                 etenney1v@google.nl       Female    3.1\n",
      "68   69             Kerr Corden            kcorden1w@feedburner.com         Male    1.2\n",
      "69   70            Neal Robison            nrobison1x@parallels.com         Male    2.8\n",
      "70   71           Adrien Voaden                    avoaden1y@360.cn         Male    3.1\n",
      "71   72          Bernardo Bucke                    bbucke1z@epa.gov         Male    3.5\n",
      "72   73           Sydney Atkirk                 satkirk20@fotki.com         Male    5.2\n",
      "73   74            Grace Derdes                gderdes21@nature.com       Female    9.2\n",
      "74   75         Nilson Harriday                nharriday22@ning.com         Male    3.8\n",
      "75   76             Noah Brunet              nbrunet23@google.co.uk         Male    9.5\n",
      "76   77             Ardra Makey               amakey24@amazon.co.uk   Non-binary    8.5\n",
      "77   78           Gareth Boodle                  gboodle25@dmoz.org         Male    5.4\n",
      "78   79            Brand Kelley             bkelley26@wikipedia.org         Male    6.9\n",
      "79   80               Chan Curm                    ccurm27@live.com         Male    8.6\n",
      "80   81        Philip Brigstock         pbrigstock28@indiatimes.com         Male    2.9\n",
      "81   82     Lyndell Osbaldstone  losbaldstone29@cargocollective.com       Female    9.2\n",
      "82   83      Pernell Vinnicombe             pvinnicombe2a@hc360.com         Male    4.7\n",
      "83   84       Gallagher Laycock              glaycock2b@cornell.edu         Male    6.0\n",
      "84   85          Ricard Pascall        rpascall2c@deliciousdays.com   Non-binary    4.8\n",
      "85   86           Happy Instock            hinstock2d@google.com.au   Non-binary    6.7\n",
      "86   87           Jinny Vasilov                   jvasilov2e@qq.com  Genderqueer    9.6\n",
      "87   88     Gaylene Du Plantier                   gdu2f@example.com       Female    2.7\n",
      "88   89             Wynn Domino             wdomino2g@hostgator.com         Male    3.0\n",
      "89   90       Barrie Headington               bheadington2h@ucoz.ru         Male    5.5\n",
      "90   91           Powell Dancey                   pdancey2i@com.com         Male    3.9\n",
      "91   92             Amara Segoe              asegoe2j@angelfire.com  Genderfluid    9.4\n",
      "92   93         Melba Penwarden            mpenwarden2k@cbsnews.com       Female    5.8\n",
      "93   94        Prescott Shillum            pshillum2l@angelfire.com         Male    7.9\n",
      "94   95             Mano Ridley              mridley2m@e-recht24.de         Male    7.2\n",
      "95   96        Sarajane Elnaugh                 selnaugh2n@ucsd.edu       Female    4.2\n",
      "96   97          Blanch Cratere        bcratere2o@sciencedirect.com       Female    7.4\n",
      "97   98     Barbie Barszczewski      bbarszczewski2p@eventbrite.com       Female    3.5\n",
      "98   99           Raoul Beacham              rbeacham2q@gizmodo.com         Male    1.7\n",
      "99  100       Filbert McGifford           fmcgifford2r@sakura.ne.jp         Male    5.9\n"
     ]
    }
   ],
   "source": [
    "#To see all data in the dataset\n",
    "\n",
    "print(student_data.to_string())"
   ]
  },
  {
   "cell_type": "code",
   "execution_count": 43,
   "id": "be3eb60d-ce6b-4af2-8ee1-ede6b001f543",
   "metadata": {},
   "outputs": [
    {
     "name": "stdout",
     "output_type": "stream",
     "text": [
      "Total number of rows are: \n",
      "(100, 5)\n"
     ]
    }
   ],
   "source": [
    "#print number of rows and columns\n",
    "print(\"Total number of rows are: \")\n",
    "print(student_data.shape)"
   ]
  },
  {
   "cell_type": "code",
   "execution_count": 44,
   "id": "29b3e029-a092-440f-ba05-b4657cf2e1b0",
   "metadata": {},
   "outputs": [
    {
     "name": "stdout",
     "output_type": "stream",
     "text": [
      "<class 'pandas.core.frame.DataFrame'>\n",
      "RangeIndex: 100 entries, 0 to 99\n",
      "Data columns (total 5 columns):\n",
      " #   Column  Non-Null Count  Dtype  \n",
      "---  ------  --------------  -----  \n",
      " 0   id      100 non-null    int64  \n",
      " 1   name    100 non-null    object \n",
      " 2   email   100 non-null    object \n",
      " 3   gender  100 non-null    object \n",
      " 4   grade   100 non-null    float64\n",
      "dtypes: float64(1), int64(1), object(3)\n",
      "memory usage: 4.0+ KB\n",
      "None\n"
     ]
    }
   ],
   "source": [
    "# Summary\n",
    "\n",
    "print(student_data.info())"
   ]
  },
  {
   "cell_type": "code",
   "execution_count": 48,
   "id": "6afca91b-2755-4b2e-95fd-599cd1351f7a",
   "metadata": {},
   "outputs": [
    {
     "data": {
      "text/html": [
       "<div>\n",
       "<style scoped>\n",
       "    .dataframe tbody tr th:only-of-type {\n",
       "        vertical-align: middle;\n",
       "    }\n",
       "\n",
       "    .dataframe tbody tr th {\n",
       "        vertical-align: top;\n",
       "    }\n",
       "\n",
       "    .dataframe thead th {\n",
       "        text-align: right;\n",
       "    }\n",
       "</style>\n",
       "<table border=\"1\" class=\"dataframe\">\n",
       "  <thead>\n",
       "    <tr style=\"text-align: right;\">\n",
       "      <th></th>\n",
       "      <th>id</th>\n",
       "      <th>grade</th>\n",
       "    </tr>\n",
       "  </thead>\n",
       "  <tbody>\n",
       "    <tr>\n",
       "      <th>count</th>\n",
       "      <td>100.000000</td>\n",
       "      <td>100.000000</td>\n",
       "    </tr>\n",
       "    <tr>\n",
       "      <th>mean</th>\n",
       "      <td>50.500000</td>\n",
       "      <td>5.637000</td>\n",
       "    </tr>\n",
       "    <tr>\n",
       "      <th>std</th>\n",
       "      <td>29.011492</td>\n",
       "      <td>2.562143</td>\n",
       "    </tr>\n",
       "    <tr>\n",
       "      <th>min</th>\n",
       "      <td>1.000000</td>\n",
       "      <td>1.200000</td>\n",
       "    </tr>\n",
       "    <tr>\n",
       "      <th>25%</th>\n",
       "      <td>25.750000</td>\n",
       "      <td>3.500000</td>\n",
       "    </tr>\n",
       "    <tr>\n",
       "      <th>50%</th>\n",
       "      <td>50.500000</td>\n",
       "      <td>5.500000</td>\n",
       "    </tr>\n",
       "    <tr>\n",
       "      <th>75%</th>\n",
       "      <td>75.250000</td>\n",
       "      <td>7.825000</td>\n",
       "    </tr>\n",
       "    <tr>\n",
       "      <th>max</th>\n",
       "      <td>100.000000</td>\n",
       "      <td>10.000000</td>\n",
       "    </tr>\n",
       "  </tbody>\n",
       "</table>\n",
       "</div>"
      ],
      "text/plain": [
       "               id       grade\n",
       "count  100.000000  100.000000\n",
       "mean    50.500000    5.637000\n",
       "std     29.011492    2.562143\n",
       "min      1.000000    1.200000\n",
       "25%     25.750000    3.500000\n",
       "50%     50.500000    5.500000\n",
       "75%     75.250000    7.825000\n",
       "max    100.000000   10.000000"
      ]
     },
     "execution_count": 48,
     "metadata": {},
     "output_type": "execute_result"
    }
   ],
   "source": [
    "#statistics summary\n",
    "student_data.describe()\n"
   ]
  },
  {
   "cell_type": "code",
   "execution_count": 51,
   "id": "3b52f0b3-125f-4cee-a837-9d31b5b11f16",
   "metadata": {},
   "outputs": [
    {
     "data": {
      "text/html": [
       "<div>\n",
       "<style scoped>\n",
       "    .dataframe tbody tr th:only-of-type {\n",
       "        vertical-align: middle;\n",
       "    }\n",
       "\n",
       "    .dataframe tbody tr th {\n",
       "        vertical-align: top;\n",
       "    }\n",
       "\n",
       "    .dataframe thead th {\n",
       "        text-align: right;\n",
       "    }\n",
       "</style>\n",
       "<table border=\"1\" class=\"dataframe\">\n",
       "  <thead>\n",
       "    <tr style=\"text-align: right;\">\n",
       "      <th></th>\n",
       "      <th>id</th>\n",
       "      <th>name</th>\n",
       "      <th>grade</th>\n",
       "    </tr>\n",
       "  </thead>\n",
       "  <tbody>\n",
       "    <tr>\n",
       "      <th>0</th>\n",
       "      <td>1</td>\n",
       "      <td>Wanda Ciepluch</td>\n",
       "      <td>5.2</td>\n",
       "    </tr>\n",
       "    <tr>\n",
       "      <th>1</th>\n",
       "      <td>2</td>\n",
       "      <td>Darsie Olwen</td>\n",
       "      <td>3.2</td>\n",
       "    </tr>\n",
       "    <tr>\n",
       "      <th>2</th>\n",
       "      <td>3</td>\n",
       "      <td>Von Seagood</td>\n",
       "      <td>9.5</td>\n",
       "    </tr>\n",
       "    <tr>\n",
       "      <th>3</th>\n",
       "      <td>4</td>\n",
       "      <td>Griswold Attawell</td>\n",
       "      <td>7.8</td>\n",
       "    </tr>\n",
       "    <tr>\n",
       "      <th>4</th>\n",
       "      <td>5</td>\n",
       "      <td>Janel Martinet</td>\n",
       "      <td>3.2</td>\n",
       "    </tr>\n",
       "  </tbody>\n",
       "</table>\n",
       "</div>"
      ],
      "text/plain": [
       "   id               name  grade\n",
       "0   1     Wanda Ciepluch    5.2\n",
       "1   2       Darsie Olwen    3.2\n",
       "2   3        Von Seagood    9.5\n",
       "3   4  Griswold Attawell    7.8\n",
       "4   5     Janel Martinet    3.2"
      ]
     },
     "execution_count": 51,
     "metadata": {},
     "output_type": "execute_result"
    }
   ],
   "source": [
    "student_data[['id','name','grade']].head()  #Select specific columns"
   ]
  },
  {
   "cell_type": "code",
   "execution_count": null,
   "id": "c7009bf1-7b8a-43ae-8537-97620bfce06d",
   "metadata": {},
   "outputs": [],
   "source": []
  }
 ],
 "metadata": {
  "kernelspec": {
   "display_name": "Python 3 (ipykernel)",
   "language": "python",
   "name": "python3"
  },
  "language_info": {
   "codemirror_mode": {
    "name": "ipython",
    "version": 3
   },
   "file_extension": ".py",
   "mimetype": "text/x-python",
   "name": "python",
   "nbconvert_exporter": "python",
   "pygments_lexer": "ipython3",
   "version": "3.13.2"
  }
 },
 "nbformat": 4,
 "nbformat_minor": 5
}
