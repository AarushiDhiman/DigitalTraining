{
 "cells": [
  {
   "cell_type": "code",
   "execution_count": 3,
   "id": "ca855f7b-50f4-4b39-9762-b0715ee39095",
   "metadata": {},
   "outputs": [
    {
     "name": "stdout",
     "output_type": "stream",
     "text": [
      "2.2.3\n"
     ]
    }
   ],
   "source": [
    "import numpy as np\n",
    "print(np.__version__)"
   ]
  },
  {
   "cell_type": "code",
   "execution_count": 7,
   "id": "2cc32949-42cd-4fab-9d1c-7ad782090d29",
   "metadata": {},
   "outputs": [
    {
     "name": "stdout",
     "output_type": "stream",
     "text": [
      "[10 20 30 40 50]\n",
      "Data Type:  <class 'numpy.ndarray'>\n",
      "Shape:  (5,)\n"
     ]
    }
   ],
   "source": [
    "#Creating array\n",
    "list=[10,20,30,40,50,]\n",
    "arr=np.array(list)\n",
    "print(arr)\n",
    "print(\"Data Type: \",type(arr))\n",
    "print(\"Shape: \",arr.shape)"
   ]
  },
  {
   "cell_type": "code",
   "execution_count": 14,
   "id": "7c6ea45c-9ff9-40c2-aa84-5dcad6948c72",
   "metadata": {},
   "outputs": [
    {
     "name": "stdout",
     "output_type": "stream",
     "text": [
      "Array:  [[1 2 3]\n",
      " [4 5 6]]\n",
      " \n",
      "no. of rows and columns:  (2, 3)\n",
      "Array size:  6\n",
      "[1 2 3]\n",
      "3\n"
     ]
    }
   ],
   "source": [
    "#creating 1D and 2d array\n",
    "arr1=np.array([[1,2,3],[4,5,6]])\n",
    "print(\"Array: \",arr1)\n",
    "print(\" \")\n",
    "print(\"no. of rows and columns: \",arr1.shape) #rows and column\n",
    "print(\"Array size: \",arr1.size) #length\n",
    "print(arr1[0]) # Accessing First Row\n",
    "print(arr1[0][2])  # Accessing first row third column\n"
   ]
  },
  {
   "cell_type": "code",
   "execution_count": 20,
   "id": "82f0f1ce-95fa-485f-8628-9ddc6babe713",
   "metadata": {},
   "outputs": [
    {
     "name": "stdout",
     "output_type": "stream",
     "text": [
      "array of zeros:\n",
      "[[0. 0. 0.]\n",
      " [0. 0. 0.]]\n",
      "-------------- \n",
      "array of 1s:\n",
      "[[1. 1. 1.]\n",
      " [1. 1. 1.]\n",
      " [1. 1. 1.]]\n",
      "---------------\n",
      "[1 4 7]\n"
     ]
    }
   ],
   "source": [
    "## Generate Arrays\n",
    "\n",
    "arr1=np.zeros([2,3])  # 2X3 matrix filled with zeros\n",
    "print(\"array of zeros:\")\n",
    "print(arr1)\n",
    "\n",
    "print(\"-------------- \")\n",
    "arr2=np.ones((3,3))\n",
    "print(\"array of 1s:\")\n",
    "print(arr2)\n",
    "\n",
    "print(\"---------------\")\n",
    "arr3=np.arange(1,10,3)\n",
    "print(arr3)\n"
   ]
  },
  {
   "cell_type": "code",
   "execution_count": 23,
   "id": "6b0ccb93-410a-4ec2-b1cc-1db856c07506",
   "metadata": {},
   "outputs": [
    {
     "name": "stdout",
     "output_type": "stream",
     "text": [
      "Sample unique array: \n",
      "[[1 4 7]\n",
      " [2 5 8]]\n"
     ]
    }
   ],
   "source": [
    "sample_arr=np.array([np.arange(1,10,3),np.arange(2,10,3)])\n",
    "print(\"Sample unique array: \")\n",
    "print(sample_arr)"
   ]
  },
  {
   "cell_type": "code",
   "execution_count": 31,
   "id": "288cc0e8-0f64-4093-920f-472f84027577",
   "metadata": {},
   "outputs": [
    {
     "name": "stdout",
     "output_type": "stream",
     "text": [
      "[1 4 7]\n",
      "[2 5 8]\n",
      " \n",
      "-----Addition-------\n",
      "[ 3  9 15]\n",
      " \n",
      "-----Multiplication-------\n",
      "[ 2 20 56]\n",
      " \n",
      "----square-------\n",
      "[ 1 16 49]\n"
     ]
    }
   ],
   "source": [
    "\n",
    "\n",
    "arr3=np.arange(1,10,3)\n",
    "print(arr3)\n",
    "arr4=np.arange(2,10,3)\n",
    "print(arr4)\n",
    "print(\" \")\n",
    "print('-----Addition-------')\n",
    "print(arr3+arr4)\n",
    "print(' ')\n",
    "print('-----Multiplication-------')\n",
    "print(arr3*arr4) \n",
    "print(\" \")\n",
    "print('----square-------')\n",
    "print(arr3**2)"
   ]
  },
  {
   "cell_type": "code",
   "execution_count": 35,
   "id": "a43dcfc7-1fb9-452f-ba8f-fbac7190d060",
   "metadata": {},
   "outputs": [
    {
     "name": "stdout",
     "output_type": "stream",
     "text": [
      "Total spend:  [ 450  950  450 1650  230]\n",
      "average_spend:  [150.         316.66666667 150.         550.          76.66666667]\n",
      "Average maximum spend:  550.0\n"
     ]
    }
   ],
   "source": [
    "purchases=np.array([\n",
    "    [200,150,100],\n",
    "    [300,250,400],\n",
    "    [100,200,150],\n",
    "    [500,600,550],\n",
    "    [50,80,100]\n",
    "])\n",
    "\n",
    "total_spend = purchases.sum(axis=1)\n",
    "\n",
    "\n",
    "average_spend= purchases.mean(axis=1)\n",
    "print(\"Total spend: \",total_spend)\n",
    "print(\"average_spend: \",average_spend)\n",
    "print(\"Average maximum spend: \",(max(average_spend)))"
   ]
  },
  {
   "cell_type": "code",
   "execution_count": 37,
   "id": "b1b8a4d0-a7c2-4497-97ba-6ff3a8a0d656",
   "metadata": {},
   "outputs": [
    {
     "name": "stdout",
     "output_type": "stream",
     "text": [
      "Solution for(X,Y):  [2.2 1.2]\n"
     ]
    }
   ],
   "source": [
    "# SOLVING QUADRATIC EQUATION\n",
    "#2X+3Y=8\n",
    "#4X+Y=10\n",
    "\n",
    "#Coefficients of Variable \n",
    "A=np.array([[2,3],[4,1]])\n",
    "\n",
    "#Constants\n",
    "B=np.array([8,10])\n",
    "\n",
    "#Solve \n",
    "solution=np.linalg.solve(A , B)\n",
    "print(\"Solution for(X,Y): \",solution)\n"
   ]
  },
  {
   "cell_type": "code",
   "execution_count": 51,
   "id": "0b5549e4-029d-4e90-b6cb-eab9cc3c3866",
   "metadata": {},
   "outputs": [
    {
     "name": "stdout",
     "output_type": "stream",
     "text": [
      "------BASIC ANALYSIS OF SALES DATA-----!!\n",
      "Total_Sales:  38000\n",
      "Average_Sales:  3800.0\n",
      "Maximum_Sales:  8000\n",
      "Minimum_sales:  1000\n",
      " \n",
      "Sales Higher than average: [5000 7000 8000 4000]\n",
      "Updated Sales:  [1650. 2750. 5500. 3300. 7700. 8800. 4400. 1100. 3850. 2750.]\n",
      " \n",
      "Sales data after sorting: [1000 1500 2500 2500 3000 3500 4000 5000 7000 8000]\n"
     ]
    }
   ],
   "source": [
    "#Assignment assuming 10 days sales data\n",
    "\n",
    "sales=np.array([1500,2500,5000,3000,7000,8000,4000,1000,3500,2500])\n",
    "Total_sales=sum(sales)\n",
    "Average_sales=np.average(sales)\n",
    "max_sales=np.max(sales)\n",
    "min_sales=np.min(sales)\n",
    "print(\"------BASIC ANALYSIS OF SALES DATA-----!!\")\n",
    "print(\"Total_Sales: \",Total_sales)\n",
    "print(\"Average_Sales: \",Average_sales)\n",
    "print(\"Maximum_Sales: \",max_sales)\n",
    "print(\"Minimum_sales: \",min_sales)\n",
    "print(\" \")\n",
    "print(\"Sales Higher than average:\",sales[sales>Average_sales])\n",
    "updated_sales=sales*1.1\n",
    "print(\"Updated Sales: \",updated_sales)\n",
    "print(\" \")\n",
    "print(\"Sales data after sorting:\",np.sort(sales))\n",
    "               "
   ]
  },
  {
   "cell_type": "code",
   "execution_count": 54,
   "id": "154f24d2-1e30-4135-a1b2-31a02f6ab13e",
   "metadata": {},
   "outputs": [
    {
     "data": {
      "text/html": [
       "<div>\n",
       "<style scoped>\n",
       "    .dataframe tbody tr th:only-of-type {\n",
       "        vertical-align: middle;\n",
       "    }\n",
       "\n",
       "    .dataframe tbody tr th {\n",
       "        vertical-align: top;\n",
       "    }\n",
       "\n",
       "    .dataframe thead th {\n",
       "        text-align: right;\n",
       "    }\n",
       "</style>\n",
       "<table border=\"1\" class=\"dataframe\">\n",
       "  <thead>\n",
       "    <tr style=\"text-align: right;\">\n",
       "      <th></th>\n",
       "      <th>Order_ID</th>\n",
       "      <th>Product</th>\n",
       "      <th>Category</th>\n",
       "      <th>Quantity</th>\n",
       "      <th>Price</th>\n",
       "      <th>Total_Amount</th>\n",
       "      <th>Date</th>\n",
       "    </tr>\n",
       "  </thead>\n",
       "  <tbody>\n",
       "    <tr>\n",
       "      <th>0</th>\n",
       "      <td>1001</td>\n",
       "      <td>Laptop</td>\n",
       "      <td>Electronics</td>\n",
       "      <td>2</td>\n",
       "      <td>700</td>\n",
       "      <td>NaN</td>\n",
       "      <td>2024-02-01</td>\n",
       "    </tr>\n",
       "    <tr>\n",
       "      <th>1</th>\n",
       "      <td>1002</td>\n",
       "      <td>Mobile Phone</td>\n",
       "      <td>Electronics</td>\n",
       "      <td>1</td>\n",
       "      <td>500</td>\n",
       "      <td>NaN</td>\n",
       "      <td>2024-02-02</td>\n",
       "    </tr>\n",
       "    <tr>\n",
       "      <th>2</th>\n",
       "      <td>1003</td>\n",
       "      <td>Headphones</td>\n",
       "      <td>Accessories</td>\n",
       "      <td>3</td>\n",
       "      <td>50</td>\n",
       "      <td>NaN</td>\n",
       "      <td>2024-02-03</td>\n",
       "    </tr>\n",
       "    <tr>\n",
       "      <th>3</th>\n",
       "      <td>1004</td>\n",
       "      <td>Mouse</td>\n",
       "      <td>Accessories</td>\n",
       "      <td>2</td>\n",
       "      <td>20</td>\n",
       "      <td>NaN</td>\n",
       "      <td>2024-02-04</td>\n",
       "    </tr>\n",
       "    <tr>\n",
       "      <th>4</th>\n",
       "      <td>1005</td>\n",
       "      <td>Keyboard</td>\n",
       "      <td>Accessories</td>\n",
       "      <td>1</td>\n",
       "      <td>30</td>\n",
       "      <td>NaN</td>\n",
       "      <td>2024-02-05</td>\n",
       "    </tr>\n",
       "  </tbody>\n",
       "</table>\n",
       "</div>"
      ],
      "text/plain": [
       "   Order_ID       Product     Category  Quantity  Price  Total_Amount  \\\n",
       "0      1001        Laptop  Electronics         2    700           NaN   \n",
       "1      1002  Mobile Phone  Electronics         1    500           NaN   \n",
       "2      1003    Headphones  Accessories         3     50           NaN   \n",
       "3      1004         Mouse  Accessories         2     20           NaN   \n",
       "4      1005      Keyboard  Accessories         1     30           NaN   \n",
       "\n",
       "         Date  \n",
       "0  2024-02-01  \n",
       "1  2024-02-02  \n",
       "2  2024-02-03  \n",
       "3  2024-02-04  \n",
       "4  2024-02-05  "
      ]
     },
     "execution_count": 54,
     "metadata": {},
     "output_type": "execute_result"
    }
   ],
   "source": [
    "import pandas as pd\n",
    "df=pd.read_csv('sales_data.csv')\n",
    "df.head()"
   ]
  },
  {
   "cell_type": "code",
   "execution_count": 58,
   "id": "03371ad1-5c79-45f6-a8be-63e31af1f518",
   "metadata": {},
   "outputs": [
    {
     "data": {
      "text/html": [
       "<div>\n",
       "<style scoped>\n",
       "    .dataframe tbody tr th:only-of-type {\n",
       "        vertical-align: middle;\n",
       "    }\n",
       "\n",
       "    .dataframe tbody tr th {\n",
       "        vertical-align: top;\n",
       "    }\n",
       "\n",
       "    .dataframe thead th {\n",
       "        text-align: right;\n",
       "    }\n",
       "</style>\n",
       "<table border=\"1\" class=\"dataframe\">\n",
       "  <thead>\n",
       "    <tr style=\"text-align: right;\">\n",
       "      <th></th>\n",
       "      <th>Order_ID</th>\n",
       "      <th>Product</th>\n",
       "      <th>Category</th>\n",
       "      <th>Quantity</th>\n",
       "      <th>Price</th>\n",
       "      <th>Total_Amount</th>\n",
       "      <th>Date</th>\n",
       "    </tr>\n",
       "  </thead>\n",
       "  <tbody>\n",
       "    <tr>\n",
       "      <th>0</th>\n",
       "      <td>False</td>\n",
       "      <td>False</td>\n",
       "      <td>False</td>\n",
       "      <td>False</td>\n",
       "      <td>False</td>\n",
       "      <td>True</td>\n",
       "      <td>False</td>\n",
       "    </tr>\n",
       "    <tr>\n",
       "      <th>1</th>\n",
       "      <td>False</td>\n",
       "      <td>False</td>\n",
       "      <td>False</td>\n",
       "      <td>False</td>\n",
       "      <td>False</td>\n",
       "      <td>True</td>\n",
       "      <td>False</td>\n",
       "    </tr>\n",
       "    <tr>\n",
       "      <th>2</th>\n",
       "      <td>False</td>\n",
       "      <td>False</td>\n",
       "      <td>False</td>\n",
       "      <td>False</td>\n",
       "      <td>False</td>\n",
       "      <td>True</td>\n",
       "      <td>False</td>\n",
       "    </tr>\n",
       "    <tr>\n",
       "      <th>3</th>\n",
       "      <td>False</td>\n",
       "      <td>False</td>\n",
       "      <td>False</td>\n",
       "      <td>False</td>\n",
       "      <td>False</td>\n",
       "      <td>True</td>\n",
       "      <td>False</td>\n",
       "    </tr>\n",
       "    <tr>\n",
       "      <th>4</th>\n",
       "      <td>False</td>\n",
       "      <td>False</td>\n",
       "      <td>False</td>\n",
       "      <td>False</td>\n",
       "      <td>False</td>\n",
       "      <td>True</td>\n",
       "      <td>False</td>\n",
       "    </tr>\n",
       "    <tr>\n",
       "      <th>5</th>\n",
       "      <td>False</td>\n",
       "      <td>False</td>\n",
       "      <td>False</td>\n",
       "      <td>False</td>\n",
       "      <td>False</td>\n",
       "      <td>True</td>\n",
       "      <td>False</td>\n",
       "    </tr>\n",
       "    <tr>\n",
       "      <th>6</th>\n",
       "      <td>False</td>\n",
       "      <td>False</td>\n",
       "      <td>False</td>\n",
       "      <td>False</td>\n",
       "      <td>False</td>\n",
       "      <td>True</td>\n",
       "      <td>False</td>\n",
       "    </tr>\n",
       "    <tr>\n",
       "      <th>7</th>\n",
       "      <td>False</td>\n",
       "      <td>False</td>\n",
       "      <td>False</td>\n",
       "      <td>False</td>\n",
       "      <td>False</td>\n",
       "      <td>True</td>\n",
       "      <td>False</td>\n",
       "    </tr>\n",
       "    <tr>\n",
       "      <th>8</th>\n",
       "      <td>False</td>\n",
       "      <td>False</td>\n",
       "      <td>False</td>\n",
       "      <td>False</td>\n",
       "      <td>False</td>\n",
       "      <td>True</td>\n",
       "      <td>False</td>\n",
       "    </tr>\n",
       "    <tr>\n",
       "      <th>9</th>\n",
       "      <td>False</td>\n",
       "      <td>False</td>\n",
       "      <td>False</td>\n",
       "      <td>False</td>\n",
       "      <td>False</td>\n",
       "      <td>True</td>\n",
       "      <td>False</td>\n",
       "    </tr>\n",
       "  </tbody>\n",
       "</table>\n",
       "</div>"
      ],
      "text/plain": [
       "   Order_ID  Product  Category  Quantity  Price  Total_Amount   Date\n",
       "0     False    False     False     False  False          True  False\n",
       "1     False    False     False     False  False          True  False\n",
       "2     False    False     False     False  False          True  False\n",
       "3     False    False     False     False  False          True  False\n",
       "4     False    False     False     False  False          True  False\n",
       "5     False    False     False     False  False          True  False\n",
       "6     False    False     False     False  False          True  False\n",
       "7     False    False     False     False  False          True  False\n",
       "8     False    False     False     False  False          True  False\n",
       "9     False    False     False     False  False          True  False"
      ]
     },
     "execution_count": 58,
     "metadata": {},
     "output_type": "execute_result"
    }
   ],
   "source": [
    "df.isnull() #checking null value"
   ]
  },
  {
   "cell_type": "code",
   "execution_count": 59,
   "id": "e26d3131-3289-47a3-a3a0-f6e7930b6cac",
   "metadata": {},
   "outputs": [
    {
     "data": {
      "text/html": [
       "<div>\n",
       "<style scoped>\n",
       "    .dataframe tbody tr th:only-of-type {\n",
       "        vertical-align: middle;\n",
       "    }\n",
       "\n",
       "    .dataframe tbody tr th {\n",
       "        vertical-align: top;\n",
       "    }\n",
       "\n",
       "    .dataframe thead th {\n",
       "        text-align: right;\n",
       "    }\n",
       "</style>\n",
       "<table border=\"1\" class=\"dataframe\">\n",
       "  <thead>\n",
       "    <tr style=\"text-align: right;\">\n",
       "      <th></th>\n",
       "      <th>Order_ID</th>\n",
       "      <th>Product</th>\n",
       "      <th>Category</th>\n",
       "      <th>Quantity</th>\n",
       "      <th>Price</th>\n",
       "      <th>Total_Amount</th>\n",
       "      <th>Date</th>\n",
       "    </tr>\n",
       "  </thead>\n",
       "  <tbody>\n",
       "    <tr>\n",
       "      <th>0</th>\n",
       "      <td>1001</td>\n",
       "      <td>Laptop</td>\n",
       "      <td>Electronics</td>\n",
       "      <td>2</td>\n",
       "      <td>700</td>\n",
       "      <td>0.0</td>\n",
       "      <td>2024-02-01</td>\n",
       "    </tr>\n",
       "    <tr>\n",
       "      <th>1</th>\n",
       "      <td>1002</td>\n",
       "      <td>Mobile Phone</td>\n",
       "      <td>Electronics</td>\n",
       "      <td>1</td>\n",
       "      <td>500</td>\n",
       "      <td>0.0</td>\n",
       "      <td>2024-02-02</td>\n",
       "    </tr>\n",
       "    <tr>\n",
       "      <th>2</th>\n",
       "      <td>1003</td>\n",
       "      <td>Headphones</td>\n",
       "      <td>Accessories</td>\n",
       "      <td>3</td>\n",
       "      <td>50</td>\n",
       "      <td>0.0</td>\n",
       "      <td>2024-02-03</td>\n",
       "    </tr>\n",
       "    <tr>\n",
       "      <th>3</th>\n",
       "      <td>1004</td>\n",
       "      <td>Mouse</td>\n",
       "      <td>Accessories</td>\n",
       "      <td>2</td>\n",
       "      <td>20</td>\n",
       "      <td>0.0</td>\n",
       "      <td>2024-02-04</td>\n",
       "    </tr>\n",
       "    <tr>\n",
       "      <th>4</th>\n",
       "      <td>1005</td>\n",
       "      <td>Keyboard</td>\n",
       "      <td>Accessories</td>\n",
       "      <td>1</td>\n",
       "      <td>30</td>\n",
       "      <td>0.0</td>\n",
       "      <td>2024-02-05</td>\n",
       "    </tr>\n",
       "    <tr>\n",
       "      <th>5</th>\n",
       "      <td>1006</td>\n",
       "      <td>T-shirt</td>\n",
       "      <td>Clothing</td>\n",
       "      <td>4</td>\n",
       "      <td>15</td>\n",
       "      <td>0.0</td>\n",
       "      <td>2024-02-06</td>\n",
       "    </tr>\n",
       "    <tr>\n",
       "      <th>6</th>\n",
       "      <td>1007</td>\n",
       "      <td>Jacket</td>\n",
       "      <td>Clothing</td>\n",
       "      <td>1</td>\n",
       "      <td>60</td>\n",
       "      <td>0.0</td>\n",
       "      <td>2024-02-07</td>\n",
       "    </tr>\n",
       "    <tr>\n",
       "      <th>7</th>\n",
       "      <td>1008</td>\n",
       "      <td>Refrigerator</td>\n",
       "      <td>Electronics</td>\n",
       "      <td>1</td>\n",
       "      <td>900</td>\n",
       "      <td>0.0</td>\n",
       "      <td>2024-02-08</td>\n",
       "    </tr>\n",
       "    <tr>\n",
       "      <th>8</th>\n",
       "      <td>1009</td>\n",
       "      <td>TV</td>\n",
       "      <td>Electronics</td>\n",
       "      <td>2</td>\n",
       "      <td>1100</td>\n",
       "      <td>0.0</td>\n",
       "      <td>2024-02-09</td>\n",
       "    </tr>\n",
       "    <tr>\n",
       "      <th>9</th>\n",
       "      <td>1010</td>\n",
       "      <td>Shoes</td>\n",
       "      <td>Clothing</td>\n",
       "      <td>2</td>\n",
       "      <td>40</td>\n",
       "      <td>0.0</td>\n",
       "      <td>2024-02-10</td>\n",
       "    </tr>\n",
       "  </tbody>\n",
       "</table>\n",
       "</div>"
      ],
      "text/plain": [
       "   Order_ID       Product     Category  Quantity  Price  Total_Amount  \\\n",
       "0      1001        Laptop  Electronics         2    700           0.0   \n",
       "1      1002  Mobile Phone  Electronics         1    500           0.0   \n",
       "2      1003    Headphones  Accessories         3     50           0.0   \n",
       "3      1004         Mouse  Accessories         2     20           0.0   \n",
       "4      1005      Keyboard  Accessories         1     30           0.0   \n",
       "5      1006       T-shirt     Clothing         4     15           0.0   \n",
       "6      1007        Jacket     Clothing         1     60           0.0   \n",
       "7      1008  Refrigerator  Electronics         1    900           0.0   \n",
       "8      1009            TV  Electronics         2   1100           0.0   \n",
       "9      1010         Shoes     Clothing         2     40           0.0   \n",
       "\n",
       "         Date  \n",
       "0  2024-02-01  \n",
       "1  2024-02-02  \n",
       "2  2024-02-03  \n",
       "3  2024-02-04  \n",
       "4  2024-02-05  \n",
       "5  2024-02-06  \n",
       "6  2024-02-07  \n",
       "7  2024-02-08  \n",
       "8  2024-02-09  \n",
       "9  2024-02-10  "
      ]
     },
     "execution_count": 59,
     "metadata": {},
     "output_type": "execute_result"
    }
   ],
   "source": [
    "df.fillna(0)"
   ]
  },
  {
   "cell_type": "code",
   "execution_count": 57,
   "id": "4b2979a9-1824-49e1-ba6a-e0c8617cc592",
   "metadata": {},
   "outputs": [
    {
     "data": {
      "text/plain": [
       "0    False\n",
       "1    False\n",
       "2    False\n",
       "3    False\n",
       "4    False\n",
       "5    False\n",
       "6    False\n",
       "7    False\n",
       "8    False\n",
       "9    False\n",
       "dtype: bool"
      ]
     },
     "execution_count": 57,
     "metadata": {},
     "output_type": "execute_result"
    }
   ],
   "source": [
    "df.duplicated()  #checkking duplicates"
   ]
  },
  {
   "cell_type": "code",
   "execution_count": 61,
   "id": "beb16594-75f4-4a09-ab41-b91794aaf590",
   "metadata": {},
   "outputs": [
    {
     "name": "stdout",
     "output_type": "stream",
     "text": [
      "Data Types: \n"
     ]
    },
    {
     "data": {
      "text/plain": [
       "Order_ID          int64\n",
       "Product          object\n",
       "Category         object\n",
       "Quantity          int64\n",
       "Price             int64\n",
       "Total_Amount    float64\n",
       "Date             object\n",
       "dtype: object"
      ]
     },
     "execution_count": 61,
     "metadata": {},
     "output_type": "execute_result"
    }
   ],
   "source": [
    "print(\"Data Types: \")\n",
    "df.dtypes"
   ]
  },
  {
   "cell_type": "code",
   "execution_count": 63,
   "id": "3712f332-1c96-4633-af53-bbd5557165b5",
   "metadata": {},
   "outputs": [],
   "source": [
    "#converting date into date time\n",
    "df['date']=pd.to_datetime(df['Date'])"
   ]
  },
  {
   "cell_type": "code",
   "execution_count": 65,
   "id": "b9cd9df1-0a49-476e-9db6-b01f5b95fc50",
   "metadata": {},
   "outputs": [
    {
     "data": {
      "text/plain": [
       "Order_ID                 int64\n",
       "Product                 object\n",
       "Category                object\n",
       "Quantity                 int64\n",
       "Price                    int64\n",
       "Total_Amount           float64\n",
       "Date                    object\n",
       "date            datetime64[ns]\n",
       "dtype: object"
      ]
     },
     "execution_count": 65,
     "metadata": {},
     "output_type": "execute_result"
    }
   ],
   "source": [
    "df.dtypes"
   ]
  },
  {
   "cell_type": "code",
   "execution_count": 69,
   "id": "841e552f-8f2f-4d3d-852c-260961902225",
   "metadata": {},
   "outputs": [],
   "source": [
    "df['Product']=df['Product'].astype(str)\n",
    "df['Category']=df['Category'].astype(str)\n"
   ]
  },
  {
   "cell_type": "code",
   "execution_count": 73,
   "id": "158d12bc-60e8-47b4-811a-3e1a1b080c6a",
   "metadata": {},
   "outputs": [
    {
     "data": {
      "text/plain": [
       "A    object\n",
       "B    object\n",
       "dtype: object"
      ]
     },
     "execution_count": 73,
     "metadata": {},
     "output_type": "execute_result"
    }
   ],
   "source": [
    "df.dtypes"
   ]
  },
  {
   "cell_type": "code",
   "execution_count": 75,
   "id": "8a379977-b10c-48b6-9c97-1915049e3726",
   "metadata": {},
   "outputs": [
    {
     "name": "stdout",
     "output_type": "stream",
     "text": [
      "Outliers:  [100]\n"
     ]
    }
   ],
   "source": [
    "#finding outlier\n",
    "\n",
    "data=np.array([10,12,14,15,18,21,25,100])\n",
    "\n",
    "#Calculate Q1,Q3 and IQR\n",
    "Q1= np.percentile(data,25)\n",
    "Q3=np.percentile(data,75)\n",
    "\n",
    "IQR= Q3-Q1\n",
    "\n",
    "#Define the bounds for outliers\n",
    "lower_bound=Q1-1.5*IQR\n",
    "upper_bound=Q3+1.5*IQR\n",
    "\n",
    "#Identify outliers\n",
    "outliers = data[(data<lower_bound) |(data>upper_bound)]\n",
    "print(\"Outliers: \",outliers)"
   ]
  },
  {
   "cell_type": "code",
   "execution_count": null,
   "id": "cf5aee00-9d03-4b97-b196-ad34224be2d8",
   "metadata": {},
   "outputs": [],
   "source": []
  }
 ],
 "metadata": {
  "kernelspec": {
   "display_name": "Python 3 (ipykernel)",
   "language": "python",
   "name": "python3"
  },
  "language_info": {
   "codemirror_mode": {
    "name": "ipython",
    "version": 3
   },
   "file_extension": ".py",
   "mimetype": "text/x-python",
   "name": "python",
   "nbconvert_exporter": "python",
   "pygments_lexer": "ipython3",
   "version": "3.13.2"
  }
 },
 "nbformat": 4,
 "nbformat_minor": 5
}
