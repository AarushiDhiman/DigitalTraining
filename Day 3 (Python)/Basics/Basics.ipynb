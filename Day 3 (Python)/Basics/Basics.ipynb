{
 "cells": [
  {
   "cell_type": "code",
   "execution_count": null,
   "id": "9c6eb1a3-2036-4f5e-bda5-67b6dfefe7c6",
   "metadata": {},
   "outputs": [],
   "source": [
    "print(\"Namma Bengaluru\")"
   ]
  },
  {
   "cell_type": "code",
   "execution_count": null,
   "id": "33cf9996-7692-4da2-ad3a-8ce9091a564f",
   "metadata": {},
   "outputs": [],
   "source": [
    "# Variables\n",
    "num1=10\n",
    "num2=10.90\n",
    "name=\"Mind Sprint\"\n",
    "\n",
    "print(\"Number 1: \",num1)\n",
    "print(f\"Number 2 {num2}\")\n",
    "print(\"Name: \",name)"
   ]
  },
  {
   "cell_type": "code",
   "execution_count": null,
   "id": "8705c733",
   "metadata": {},
   "outputs": [],
   "source": [
    "num1 = int(input(\"Enter first number: \"))\n",
    "num2 = int(input(\" Enter second number: \"))\n",
    "\n",
    "print(\"Addition: \", num1+num2)"
   ]
  }
 ],
 "metadata": {
  "kernelspec": {
   "display_name": "Python 3",
   "language": "python",
   "name": "python3"
  },
  "language_info": {
   "codemirror_mode": {
    "name": "ipython",
    "version": 3
   },
   "file_extension": ".py",
   "mimetype": "text/x-python",
   "name": "python",
   "nbconvert_exporter": "python",
   "pygments_lexer": "ipython3",
   "version": "3.13.2"
  }
 },
 "nbformat": 4,
 "nbformat_minor": 5
}
